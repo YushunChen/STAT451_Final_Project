{
 "cells": [
  {
   "cell_type": "code",
   "execution_count": 1,
   "id": "73e5a7a2",
   "metadata": {},
   "outputs": [],
   "source": [
    "import numpy as np\n",
    "import pandas as pd\n",
    "import time\n",
    "from sklearn.model_selection import train_test_split, GridSearchCV\n",
    "from sklearn.ensemble import BaggingClassifier, RandomForestClassifier, GradientBoostingClassifier\n",
    "from sklearn import svm, linear_model\n",
    "from sklearn.tree import DecisionTreeClassifier\n",
    "from sklearn.neighbors import KNeighborsClassifier"
   ]
  },
  {
   "cell_type": "code",
   "execution_count": 2,
   "id": "66db05d9",
   "metadata": {},
   "outputs": [
    {
     "name": "stdout",
     "output_type": "stream",
     "text": [
      "      NumDots  SubdomainLevel  PathLevel  UrlLength  NumDash  \\\n",
      "0           3               1          5         72        0   \n",
      "1           3               1          3        144        0   \n",
      "2           3               1          2         58        0   \n",
      "3           3               1          6         79        1   \n",
      "4           3               0          4         46        0   \n",
      "...       ...             ...        ...        ...      ...   \n",
      "9995        3               1          1         50        0   \n",
      "9996        2               1          4         59        1   \n",
      "9997        2               1          4         57        0   \n",
      "9998        3               1          1         49        0   \n",
      "9999        3               1          2         52        3   \n",
      "\n",
      "      NumDashInHostname  AtSymbol  TildeSymbol  NumUnderscore  NumPercent  \\\n",
      "0                     0         0            0              0           0   \n",
      "1                     0         0            0              2           0   \n",
      "2                     0         0            0              0           0   \n",
      "3                     0         0            0              0           0   \n",
      "4                     0         0            0              0           0   \n",
      "...                 ...       ...          ...            ...         ...   \n",
      "9995                  0         0            0              0           0   \n",
      "9996                  0         0            0              0           0   \n",
      "9997                  0         0            0              0           0   \n",
      "9998                  0         0            0              0           0   \n",
      "9999                  0         0            0              0           0   \n",
      "\n",
      "      ...  AbnormalFormAction  PctNullSelfRedirectHyperlinks  \\\n",
      "0     ...                   0                       0.000000   \n",
      "1     ...                   0                       0.000000   \n",
      "2     ...                   0                       0.000000   \n",
      "3     ...                   0                       0.000000   \n",
      "4     ...                   0                       0.000000   \n",
      "...   ...                 ...                            ...   \n",
      "9995  ...                   0                       0.000000   \n",
      "9996  ...                   0                       0.129032   \n",
      "9997  ...                   0                       0.056338   \n",
      "9998  ...                   0                       0.000000   \n",
      "9999  ...                   0                       0.004717   \n",
      "\n",
      "      FrequentDomainNameMismatch  FakeLinkInStatusBar  RightClickDisabled  \\\n",
      "0                              0                    0                   0   \n",
      "1                              0                    0                   0   \n",
      "2                              0                    0                   0   \n",
      "3                              1                    0                   0   \n",
      "4                              1                    0                   0   \n",
      "...                          ...                  ...                 ...   \n",
      "9995                           0                    0                   0   \n",
      "9996                           0                    0                   0   \n",
      "9997                           0                    0                   0   \n",
      "9998                           0                    0                   0   \n",
      "9999                           0                    0                   0   \n",
      "\n",
      "      PopUpWindow  SubmitInfoToEmail  IframeOrFrame  MissingTitle  \\\n",
      "0               0                  0              0             0   \n",
      "1               0                  0              0             0   \n",
      "2               0                  0              0             0   \n",
      "3               0                  1              0             0   \n",
      "4               0                  0              1             0   \n",
      "...           ...                ...            ...           ...   \n",
      "9995            0                  0              0             0   \n",
      "9996            0                  0              1             0   \n",
      "9997            0                  0              0             0   \n",
      "9998            0                  0              1             0   \n",
      "9999            0                  0              0             0   \n",
      "\n",
      "      ImagesOnlyInForm  \n",
      "0                    1  \n",
      "1                    0  \n",
      "2                    0  \n",
      "3                    0  \n",
      "4                    0  \n",
      "...                ...  \n",
      "9995                 0  \n",
      "9996                 0  \n",
      "9997                 0  \n",
      "9998                 0  \n",
      "9999                 0  \n",
      "\n",
      "[10000 rows x 42 columns]\n"
     ]
    }
   ],
   "source": [
    "# read and peak data\n",
    "df = pd.read_csv('./data.csv')\n",
    "df[:5]\n",
    "# excluded the last 6 parameters\n",
    "X = df.iloc[:, 1:43]\n",
    "y = df.iloc[:, 49]\n",
    "n_rows = len(X)\n",
    "print(X)"
   ]
  },
  {
   "cell_type": "code",
   "execution_count": 3,
   "id": "228304c1",
   "metadata": {},
   "outputs": [],
   "source": [
    "# split data and store indices\n",
    "X_train, X_tmp, y_train, y_tmp = train_test_split(X, y, test_size=.2, random_state=0, stratify=y)\n",
    "X_valid, X_test, y_valid, y_test = train_test_split(X_tmp, y_tmp, test_size=.5, random_state=0, stratify=y_tmp)\n",
    "indices_train, indices_tmp = train_test_split(np.arange(n_rows), test_size=.2, random_state=0, stratify=y)\n",
    "indices_valid, indices_test = train_test_split(indices_tmp, test_size=.5, random_state=0, stratify=y[indices_tmp])"
   ]
  },
  {
   "cell_type": "code",
   "execution_count": 4,
   "id": "5ba48ae2",
   "metadata": {},
   "outputs": [],
   "source": [
    "# start_1 = time.time()\n",
    "# clf = svm.SVC(kernel=\"linear\", C=2000)\n",
    "# clf.fit(X_train,y_train)\n",
    "# end_1 = time.time()\n",
    "\n",
    "# print(f'SVM Training accuracy: {clf.score(X_valid, y_valid):.3}')\n",
    "\n"
   ]
  },
  {
   "cell_type": "code",
   "execution_count": 5,
   "id": "a1e7e2f2",
   "metadata": {},
   "outputs": [],
   "source": [
    "# print(f'SVM(linear, C=2000) performance: {(end_1-start_1):.3}')"
   ]
  },
  {
   "cell_type": "code",
   "execution_count": 6,
   "id": "5bcd4941",
   "metadata": {},
   "outputs": [
    {
     "name": "stdout",
     "output_type": "stream",
     "text": [
      "Logistic regression Training accuracy: 0.941\n",
      "Logistic regression performance: 1.75\n"
     ]
    }
   ],
   "source": [
    "# Logistic regression\n",
    "clf = linear_model.LogisticRegression(max_iter=100000, C=3000)\n",
    "start_1 = time.time()\n",
    "clf.fit(X_train, y_train)\n",
    "end_1 = time.time()\n",
    "print(f'Logistic regression Training accuracy: {clf.score(X_valid, y_valid):.3}')\n",
    "print(f'Logistic regression performance: {(end_1-start_1):.3}')\n",
    "\n",
    "\n",
    "\n"
   ]
  },
  {
   "cell_type": "code",
   "execution_count": 7,
   "id": "c86a9017",
   "metadata": {},
   "outputs": [
    {
     "name": "stdout",
     "output_type": "stream",
     "text": [
      "Linear regression Training accuracy: 0.688\n",
      "Linear regression performance: 0.00748\n"
     ]
    }
   ],
   "source": [
    "clf = linear_model.LinearRegression()\n",
    "start_1 = time.time()\n",
    "clf.fit(X_train, y_train)\n",
    "end_1 = time.time()\n",
    "print(f'Linear regression Training accuracy: {clf.score(X_valid, y_valid):.3}')\n",
    "print(f'Linear regression performance: {(end_1-start_1):.3}')\n",
    "\n"
   ]
  },
  {
   "cell_type": "code",
   "execution_count": 8,
   "id": "b0d31c20",
   "metadata": {},
   "outputs": [
    {
     "name": "stdout",
     "output_type": "stream",
     "text": [
      "DecisionTree validation_score=0.918\n"
     ]
    }
   ],
   "source": [
    "# ID3 Decision Tree\n",
    "clf = DecisionTreeClassifier(criterion='entropy', max_depth=3)\n",
    "clf.fit(X_train, y_train)\n",
    "validation_score = clf.score(X_valid, y_valid)\n",
    "print(f'DecisionTree validation_score={validation_score:.3}')"
   ]
  },
  {
   "cell_type": "code",
   "execution_count": 9,
   "id": "208102af",
   "metadata": {},
   "outputs": [
    {
     "name": "stdout",
     "output_type": "stream",
     "text": [
      "clf.best_score_=0.966, clf.best_params_={'criterion': 'entropy', 'max_depth': 7}DecisionTreeClassifier(criterion='entropy', max_depth=7)\n",
      "ID3 performance: 0.0218\n"
     ]
    }
   ],
   "source": [
    "# ID3 Decision Tree grid search\n",
    "parameters = {'criterion': ['entropy'], 'max_depth': [1, 3, 5, 7, 9]}\n",
    "id3 = DecisionTreeClassifier()\n",
    "clf = GridSearchCV(id3, parameters)\n",
    "clf.fit(X_train, y_train)\n",
    "print(f'clf.best_score_={clf.best_score_:.3}, ' +\n",
    "      f'clf.best_params_={clf.best_params_}' + str(clf.best_estimator_))\n",
    "start_1 = time.time()\n",
    "clf.best_estimator_.fit(X_train, y_train)\n",
    "end_1 = time.time()\n",
    "print(f'ID3 performance: {(end_1-start_1):.3}')\n",
    "\n"
   ]
  },
  {
   "cell_type": "code",
   "execution_count": 10,
   "id": "6b3aa838",
   "metadata": {},
   "outputs": [
    {
     "name": "stdout",
     "output_type": "stream",
     "text": [
      "Bagging validation_score=0.977\n",
      "Bagging validation_score=0.984\n"
     ]
    }
   ],
   "source": [
    "# bagging\n",
    "clf = BaggingClassifier(base_estimator=DecisionTreeClassifier(), n_estimators=10, random_state=0)\n",
    "clf.fit(X_train, y_train)\n",
    "validation_score = clf.score(X_valid, y_valid)\n",
    "print(f'Bagging validation_score={validation_score:.3}')\n",
    "\n",
    "\n",
    "# bagging\n",
    "clf = BaggingClassifier(base_estimator=RandomForestClassifier(), n_estimators=10, random_state=0)\n",
    "clf.fit(X_train, y_train)\n",
    "validation_score = clf.score(X_valid, y_valid)\n",
    "print(f'Bagging validation_score={validation_score:.3}')\n"
   ]
  },
  {
   "cell_type": "code",
   "execution_count": 11,
   "id": "4fcbd3bd",
   "metadata": {},
   "outputs": [
    {
     "name": "stdout",
     "output_type": "stream",
     "text": [
      "clf.best_score_=0.973, clf.best_params_={'n_estimators': 15}\n"
     ]
    }
   ],
   "source": [
    "# bagging grid search (max: 0.964)\n",
    "parameters = {'n_estimators': [1, 5, 10, 15]}\n",
    "bagging = BaggingClassifier(base_estimator=DecisionTreeClassifier(), random_state=0)\n",
    "clf = GridSearchCV(bagging, parameters)\n",
    "clf.fit(X_train, y_train)\n",
    "print(f'clf.best_score_={clf.best_score_:.3}, ' +\n",
    "      f'clf.best_params_={clf.best_params_}')"
   ]
  },
  {
   "cell_type": "code",
   "execution_count": 12,
   "id": "0c441bf7",
   "metadata": {},
   "outputs": [
    {
     "name": "stdout",
     "output_type": "stream",
     "text": [
      "RandomForest validation_score=0.971\n"
     ]
    }
   ],
   "source": [
    "# random forest\n",
    "clf = RandomForestClassifier(max_depth=10, random_state=0)\n",
    "clf.fit(X_train, y_train)\n",
    "validation_score = clf.score(X_valid, y_valid)\n",
    "print(f'RandomForest validation_score={validation_score:.3}')"
   ]
  },
  {
   "cell_type": "code",
   "execution_count": 13,
   "id": "2478094c",
   "metadata": {},
   "outputs": [
    {
     "name": "stdout",
     "output_type": "stream",
     "text": [
      "clf.best_score_=0.981, clf.best_params_={'max_depth': 30}\n",
      "Random forest tree performance: 0.383\n"
     ]
    }
   ],
   "source": [
    "# random forest grid search (max: 0.974)\n",
    "parameters = {'max_depth': [1, 5, 10, 15, 20, 30, 50, 100, 150]}\n",
    "rf = RandomForestClassifier(random_state=0)\n",
    "clf = GridSearchCV(rf, parameters)\n",
    "clf.fit(X_train, y_train)\n",
    "print(f'clf.best_score_={clf.best_score_:.3}, ' +\n",
    "      f'clf.best_params_={clf.best_params_}')\n",
    "\n",
    "start_1 = time.time()\n",
    "clf.best_estimator_.fit(X_train, y_train)\n",
    "end_1 = time.time()\n",
    "print(f'Random forest tree performance: {(end_1-start_1):.3}')\n",
    "\n",
    "\n",
    "\n"
   ]
  },
  {
   "cell_type": "code",
   "execution_count": 14,
   "id": "a1d0a697",
   "metadata": {},
   "outputs": [
    {
     "name": "stdout",
     "output_type": "stream",
     "text": [
      "GradientBoosting validation_score=0.971\n"
     ]
    }
   ],
   "source": [
    "# gradient boosting\n",
    "clf = GradientBoostingClassifier(n_estimators=100, learning_rate=1.0, max_depth=1, random_state=0)\n",
    "clf.fit(X_train, y_train)\n",
    "cvalidation_score = clf.score(X_valid, y_valid)\n",
    "print(f'GradientBoosting validation_score={validation_score:.3}')"
   ]
  },
  {
   "cell_type": "code",
   "execution_count": 15,
   "id": "4bc568d7",
   "metadata": {},
   "outputs": [
    {
     "name": "stdout",
     "output_type": "stream",
     "text": [
      "clf.best_score_=0.984, clf.best_params_={'learning_rate': 0.5, 'max_depth': 3, 'n_estimators': 100}\n",
      "0.986\n",
      "GradientBoosting tree performance: 0.855\n"
     ]
    }
   ],
   "source": [
    "# gradient boosting grid search\n",
    "parameters = {'n_estimators': [1, 50, 100], 'learning_rate': [0.5, 1.0], 'max_depth': [1, 3, 5, 10, 15]}\n",
    "gb = GradientBoostingClassifier(random_state=0)\n",
    "clf = GridSearchCV(gb, parameters)\n",
    "clf.fit(X_train, y_train)\n",
    "print(f'clf.best_score_={clf.best_score_:.3}, ' +\n",
    "      f'clf.best_params_={clf.best_params_}')\n",
    "\n",
    "start_1 = time.time()\n",
    "best = clf.best_estimator_\n",
    "best.fit(X_train, y_train)\n",
    "print(best.score(X_valid, y_valid))\n",
    "end_1 = time.time()\n",
    "print(f'GradientBoosting tree performance: {(end_1-start_1):.3}')\n"
   ]
  },
  {
   "cell_type": "markdown",
   "id": "6c78e3e8",
   "metadata": {},
   "source": [
    "### More classifiers\n",
    "Maybe stacking the top 3."
   ]
  },
  {
   "cell_type": "markdown",
   "id": "99360dbc",
   "metadata": {},
   "source": [
    "### Application\n",
    "Drawback: Data may be difficult to collect.\n",
    "Solution: Use a few predictors and test the result."
   ]
  },
  {
   "cell_type": "code",
   "execution_count": null,
   "id": "86d7b97f",
   "metadata": {},
   "outputs": [],
   "source": []
  }
 ],
 "metadata": {
  "kernelspec": {
   "display_name": "Python 3 (ipykernel)",
   "language": "python",
   "name": "python3"
  },
  "language_info": {
   "codemirror_mode": {
    "name": "ipython",
    "version": 3
   },
   "file_extension": ".py",
   "mimetype": "text/x-python",
   "name": "python",
   "nbconvert_exporter": "python",
   "pygments_lexer": "ipython3",
   "version": "3.9.7"
  }
 },
 "nbformat": 4,
 "nbformat_minor": 5
}
