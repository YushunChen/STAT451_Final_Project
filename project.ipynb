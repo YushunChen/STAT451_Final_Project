{
 "cells": [
  {
   "cell_type": "code",
   "execution_count": 1,
   "id": "73e5a7a2",
   "metadata": {},
   "outputs": [],
   "source": [
    "import numpy as np\n",
    "import pandas as pd\n",
    "\n",
    "from sklearn.model_selection import train_test_split, GridSearchCV\n",
    "from sklearn.ensemble import BaggingClassifier, RandomForestClassifier, GradientBoostingClassifier\n",
    "from sklearn import svm, linear_model\n",
    "from sklearn.tree import DecisionTreeClassifier\n",
    "from sklearn.neighbors import KNeighborsClassifier"
   ]
  },
  {
   "cell_type": "code",
   "execution_count": 2,
   "id": "66db05d9",
   "metadata": {},
   "outputs": [],
   "source": [
    "# read and peak data\n",
    "df = pd.read_csv('./data.csv')\n",
    "df[:5]\n",
    "# excluded the last 6 parameters\n",
    "X = df.iloc[:, 1:44]\n",
    "y = df.iloc[:, 49]\n",
    "n_rows = len(X)"
   ]
  },
  {
   "cell_type": "code",
   "execution_count": 3,
   "id": "5bcd4941",
   "metadata": {},
   "outputs": [],
   "source": [
    "# split data and store indices\n",
    "X_train, X_tmp, y_train, y_tmp = train_test_split(X, y, test_size=.2, random_state=0, stratify=y)\n",
    "X_valid, X_test, y_valid, y_test = train_test_split(X_tmp, y_tmp, test_size=.5, random_state=0, stratify=y_tmp)\n",
    "indices_train, indices_tmp = train_test_split(np.arange(n_rows), test_size=.2, random_state=0, stratify=y)\n",
    "indices_valid, indices_test = train_test_split(indices_tmp, test_size=.5, random_state=0, stratify=y[indices_tmp])"
   ]
  },
  {
   "cell_type": "code",
   "execution_count": 4,
   "id": "b0d31c20",
   "metadata": {},
   "outputs": [
    {
     "name": "stdout",
     "output_type": "stream",
     "text": [
      "DecisionTree validation_score=0.918\n"
     ]
    }
   ],
   "source": [
    "# ID3 Decision Tree\n",
    "clf = DecisionTreeClassifier(criterion='entropy', max_depth=3)\n",
    "clf.fit(X_train, y_train)\n",
    "validation_score = clf.score(X_valid, y_valid)\n",
    "print(f'DecisionTree validation_score={validation_score:.3}')"
   ]
  },
  {
   "cell_type": "code",
   "execution_count": 5,
   "id": "208102af",
   "metadata": {},
   "outputs": [
    {
     "name": "stdout",
     "output_type": "stream",
     "text": [
      "clf.best_score_=0.959, clf.best_params_={'criterion': 'entropy', 'max_depth': 7}\n"
     ]
    }
   ],
   "source": [
    "# ID3 Decision Tree grid search\n",
    "parameters = {'criterion': ['entropy'], 'max_depth': [1, 3, 5, 7, 9]}\n",
    "id3 = DecisionTreeClassifier()\n",
    "clf = GridSearchCV(id3, parameters)\n",
    "clf.fit(X, y)\n",
    "print(f'clf.best_score_={clf.best_score_:.3}, ' +\n",
    "      f'clf.best_params_={clf.best_params_}')"
   ]
  },
  {
   "cell_type": "code",
   "execution_count": 6,
   "id": "6b3aa838",
   "metadata": {},
   "outputs": [
    {
     "name": "stdout",
     "output_type": "stream",
     "text": [
      "Bagging validation_score=0.98\n"
     ]
    }
   ],
   "source": [
    "# bagging\n",
    "clf = BaggingClassifier(base_estimator=DecisionTreeClassifier(), n_estimators=10, random_state=0)\n",
    "clf.fit(X_train, y_train)\n",
    "validation_score = clf.score(X_valid, y_valid)\n",
    "print(f'Bagging validation_score={validation_score:.3}')"
   ]
  },
  {
   "cell_type": "code",
   "execution_count": 7,
   "id": "4fcbd3bd",
   "metadata": {},
   "outputs": [
    {
     "name": "stdout",
     "output_type": "stream",
     "text": [
      "clf.best_score_=0.964, clf.best_params_={'n_estimators': 15}\n"
     ]
    }
   ],
   "source": [
    "# bagging grid search (max: 0.964)\n",
    "parameters = {'n_estimators': [1, 5, 10, 15]}\n",
    "bagging = BaggingClassifier(base_estimator=DecisionTreeClassifier(), random_state=0)\n",
    "clf = GridSearchCV(bagging, parameters)\n",
    "clf.fit(X, y)\n",
    "print(f'clf.best_score_={clf.best_score_:.3}, ' +\n",
    "      f'clf.best_params_={clf.best_params_}')"
   ]
  },
  {
   "cell_type": "code",
   "execution_count": 8,
   "id": "0c441bf7",
   "metadata": {},
   "outputs": [
    {
     "name": "stdout",
     "output_type": "stream",
     "text": [
      "RandomForest validation_score=0.972\n"
     ]
    }
   ],
   "source": [
    "# random forest\n",
    "clf = RandomForestClassifier(max_depth=10, random_state=0)\n",
    "clf.fit(X_train, y_train)\n",
    "validation_score = clf.score(X_valid, y_valid)\n",
    "print(f'RandomForest validation_score={validation_score:.3}')"
   ]
  },
  {
   "cell_type": "code",
   "execution_count": 9,
   "id": "2478094c",
   "metadata": {},
   "outputs": [
    {
     "name": "stdout",
     "output_type": "stream",
     "text": [
      "clf.best_score_=0.974, clf.best_params_={'max_depth': 15}\n"
     ]
    }
   ],
   "source": [
    "# random forest grid search (max: 0.974)\n",
    "parameters = {'max_depth': [1, 5, 10, 15]}\n",
    "rf = RandomForestClassifier(random_state=0)\n",
    "clf = GridSearchCV(rf, parameters)\n",
    "clf.fit(X, y)\n",
    "print(f'clf.best_score_={clf.best_score_:.3}, ' +\n",
    "      f'clf.best_params_={clf.best_params_}')"
   ]
  },
  {
   "cell_type": "code",
   "execution_count": 10,
   "id": "a1d0a697",
   "metadata": {},
   "outputs": [
    {
     "name": "stdout",
     "output_type": "stream",
     "text": [
      "GradientBoosting validation_score=0.972\n"
     ]
    }
   ],
   "source": [
    "# gradient boosting\n",
    "clf = GradientBoostingClassifier(n_estimators=100, learning_rate=1.0, max_depth=1, random_state=0)\n",
    "clf.fit(X_train, y_train)\n",
    "cvalidation_score = clf.score(X_valid, y_valid)\n",
    "print(f'GradientBoosting validation_score={validation_score:.3}')"
   ]
  },
  {
   "cell_type": "code",
   "execution_count": 11,
   "id": "4bc568d7",
   "metadata": {},
   "outputs": [
    {
     "name": "stdout",
     "output_type": "stream",
     "text": [
      "clf.best_score_=0.978, clf.best_params_={'learning_rate': 0.5, 'max_depth': 3, 'n_estimators': 100}\n"
     ]
    }
   ],
   "source": [
    "# gradient boosting grid search\n",
    "parameters = {'n_estimators': [1, 50, 100], 'learning_rate': [0.5, 1.0], 'max_depth': [1, 3, 5]}\n",
    "gb = GradientBoostingClassifier(random_state=0)\n",
    "clf = GridSearchCV(gb, parameters)\n",
    "clf.fit(X, y)\n",
    "print(f'clf.best_score_={clf.best_score_:.3}, ' +\n",
    "      f'clf.best_params_={clf.best_params_}')"
   ]
  },
  {
   "cell_type": "markdown",
   "id": "6c78e3e8",
   "metadata": {},
   "source": [
    "### More classifiers\n",
    "Maybe stacking the top 3."
   ]
  },
  {
   "cell_type": "markdown",
   "id": "99360dbc",
   "metadata": {},
   "source": [
    "### Application\n",
    "Drawback: Data may be difficult to collect.\n",
    "Solution: Use a few predictors and test the result."
   ]
  },
  {
   "cell_type": "code",
   "execution_count": null,
   "id": "86d7b97f",
   "metadata": {},
   "outputs": [],
   "source": []
  }
 ],
 "metadata": {
  "kernelspec": {
   "display_name": "Python 3 (ipykernel)",
   "language": "python",
   "name": "python3"
  },
  "language_info": {
   "codemirror_mode": {
    "name": "ipython",
    "version": 3
   },
   "file_extension": ".py",
   "mimetype": "text/x-python",
   "name": "python",
   "nbconvert_exporter": "python",
   "pygments_lexer": "ipython3",
   "version": "3.9.7"
  }
 },
 "nbformat": 4,
 "nbformat_minor": 5
}
